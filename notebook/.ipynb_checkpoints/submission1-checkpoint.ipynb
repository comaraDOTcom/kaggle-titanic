{
 "cells": [
  {
   "cell_type": "markdown",
   "metadata": {},
   "source": [
    "### 0. Importing packages"
   ]
  },
  {
   "cell_type": "code",
   "execution_count": 227,
   "metadata": {},
   "outputs": [],
   "source": [
    "import pandas as pd\n",
    "import numpy as np\n",
    "from datetime import datetime\n",
    "from sklearn.preprocessing import StandardScaler, LabelEncoder\n",
    "from sklearn.model_selection import train_test_split, cross_validate, GridSearchCV\n",
    "from sklearn.linear_model import LogisticRegression\n",
    "from sklearn.ensemble import RandomForestClassifier\n",
    "from sklearn.impute import SimpleImputer\n",
    "from warnings import simplefilter\n",
    "simplefilter(action=\"ignore\",category=FutureWarning)\n",
    "\n",
    "pd.set_option('display.max_rows', 500)\n",
    "pd.set_option('display.max_columns', 500)\n",
    "pd.set_option('display.width', 1000)"
   ]
  },
  {
   "cell_type": "markdown",
   "metadata": {},
   "source": [
    "### 1. Load in data"
   ]
  },
  {
   "cell_type": "code",
   "execution_count": 153,
   "metadata": {},
   "outputs": [],
   "source": [
    "path_to_data = \"../data/\"\n",
    "gender_submission = pd.read_csv(path_to_data + \"gender_submission.csv\")\n",
    "test = pd.read_csv(path_to_data + \"test.csv\")\n",
    "train = pd.read_csv(path_to_data + \"train.csv\")"
   ]
  },
  {
   "cell_type": "code",
   "execution_count": 112,
   "metadata": {},
   "outputs": [
    {
     "data": {
      "text/html": [
       "<div>\n",
       "<style scoped>\n",
       "    .dataframe tbody tr th:only-of-type {\n",
       "        vertical-align: middle;\n",
       "    }\n",
       "\n",
       "    .dataframe tbody tr th {\n",
       "        vertical-align: top;\n",
       "    }\n",
       "\n",
       "    .dataframe thead th {\n",
       "        text-align: right;\n",
       "    }\n",
       "</style>\n",
       "<table border=\"1\" class=\"dataframe\">\n",
       "  <thead>\n",
       "    <tr style=\"text-align: right;\">\n",
       "      <th></th>\n",
       "      <th>PassengerId</th>\n",
       "      <th>Survived</th>\n",
       "    </tr>\n",
       "  </thead>\n",
       "  <tbody>\n",
       "    <tr>\n",
       "      <th>0</th>\n",
       "      <td>892</td>\n",
       "      <td>0</td>\n",
       "    </tr>\n",
       "    <tr>\n",
       "      <th>1</th>\n",
       "      <td>893</td>\n",
       "      <td>1</td>\n",
       "    </tr>\n",
       "    <tr>\n",
       "      <th>2</th>\n",
       "      <td>894</td>\n",
       "      <td>0</td>\n",
       "    </tr>\n",
       "  </tbody>\n",
       "</table>\n",
       "</div>"
      ],
      "text/plain": [
       "   PassengerId  Survived\n",
       "0          892         0\n",
       "1          893         1\n",
       "2          894         0"
      ]
     },
     "execution_count": 112,
     "metadata": {},
     "output_type": "execute_result"
    }
   ],
   "source": [
    "# example of a submission. DF has PassengerID and survival as encoded in binary\n",
    "# Survived = 1, Didn't survive = 0\n",
    "gender_submission.head(3)"
   ]
  },
  {
   "cell_type": "markdown",
   "metadata": {},
   "source": [
    "### 2. Data Quality Check"
   ]
  },
  {
   "cell_type": "code",
   "execution_count": 113,
   "metadata": {},
   "outputs": [],
   "source": [
    "# create X and y\n",
    "X = train.drop(\"Survived\",axis=1)\n",
    "y = train['Survived']"
   ]
  },
  {
   "cell_type": "markdown",
   "metadata": {},
   "source": [
    "#### 2.1 Drop cols with more than 1% NaNs"
   ]
  },
  {
   "cell_type": "code",
   "execution_count": 114,
   "metadata": {},
   "outputs": [
    {
     "data": {
      "text/html": [
       "<div>\n",
       "<style scoped>\n",
       "    .dataframe tbody tr th:only-of-type {\n",
       "        vertical-align: middle;\n",
       "    }\n",
       "\n",
       "    .dataframe tbody tr th {\n",
       "        vertical-align: top;\n",
       "    }\n",
       "\n",
       "    .dataframe thead th {\n",
       "        text-align: right;\n",
       "    }\n",
       "</style>\n",
       "<table border=\"1\" class=\"dataframe\">\n",
       "  <thead>\n",
       "    <tr style=\"text-align: right;\">\n",
       "      <th></th>\n",
       "      <th>feature</th>\n",
       "      <th>Percentage_NaNs</th>\n",
       "    </tr>\n",
       "  </thead>\n",
       "  <tbody>\n",
       "    <tr>\n",
       "      <th>0</th>\n",
       "      <td>Cabin</td>\n",
       "      <td>77.104377</td>\n",
       "    </tr>\n",
       "    <tr>\n",
       "      <th>1</th>\n",
       "      <td>Age</td>\n",
       "      <td>19.865320</td>\n",
       "    </tr>\n",
       "    <tr>\n",
       "      <th>2</th>\n",
       "      <td>Embarked</td>\n",
       "      <td>0.224467</td>\n",
       "    </tr>\n",
       "    <tr>\n",
       "      <th>3</th>\n",
       "      <td>PassengerId</td>\n",
       "      <td>0.000000</td>\n",
       "    </tr>\n",
       "    <tr>\n",
       "      <th>4</th>\n",
       "      <td>Pclass</td>\n",
       "      <td>0.000000</td>\n",
       "    </tr>\n",
       "    <tr>\n",
       "      <th>5</th>\n",
       "      <td>Name</td>\n",
       "      <td>0.000000</td>\n",
       "    </tr>\n",
       "    <tr>\n",
       "      <th>6</th>\n",
       "      <td>Sex</td>\n",
       "      <td>0.000000</td>\n",
       "    </tr>\n",
       "    <tr>\n",
       "      <th>7</th>\n",
       "      <td>SibSp</td>\n",
       "      <td>0.000000</td>\n",
       "    </tr>\n",
       "    <tr>\n",
       "      <th>8</th>\n",
       "      <td>Parch</td>\n",
       "      <td>0.000000</td>\n",
       "    </tr>\n",
       "    <tr>\n",
       "      <th>9</th>\n",
       "      <td>Ticket</td>\n",
       "      <td>0.000000</td>\n",
       "    </tr>\n",
       "    <tr>\n",
       "      <th>10</th>\n",
       "      <td>Fare</td>\n",
       "      <td>0.000000</td>\n",
       "    </tr>\n",
       "  </tbody>\n",
       "</table>\n",
       "</div>"
      ],
      "text/plain": [
       "        feature  Percentage_NaNs\n",
       "0         Cabin        77.104377\n",
       "1           Age        19.865320\n",
       "2      Embarked         0.224467\n",
       "3   PassengerId         0.000000\n",
       "4        Pclass         0.000000\n",
       "5          Name         0.000000\n",
       "6           Sex         0.000000\n",
       "7         SibSp         0.000000\n",
       "8         Parch         0.000000\n",
       "9        Ticket         0.000000\n",
       "10         Fare         0.000000"
      ]
     },
     "execution_count": 114,
     "metadata": {},
     "output_type": "execute_result"
    }
   ],
   "source": [
    "df_NaNs_percent = pd.DataFrame(X.isna().mean()*100,columns=['Percentage_NaNs']).sort_values(by='Percentage_NaNs', ascending=False)\n",
    "df_NaNs_percent.reset_index(level=0, inplace= True)\n",
    "df_NaNs_percent.rename(columns = {'index':'feature'},inplace=True)\n",
    "df_NaNs_percent"
   ]
  },
  {
   "cell_type": "code",
   "execution_count": 115,
   "metadata": {},
   "outputs": [
    {
     "name": "stdout",
     "output_type": "stream",
     "text": [
      "Number of cols dropped: 2\n",
      "-------------------------------------\n",
      "\n",
      "Cabin\n",
      "Age\n"
     ]
    }
   ],
   "source": [
    "# Drop columns with more than 1% NaNs\n",
    "cols_to_drop = list(df_NaNs_percent.loc[df_NaNs_percent[\"Percentage_NaNs\"] > 1,'feature'])\n",
    "X = X.drop(columns = cols_to_drop)\n",
    "print(\"Number of cols dropped: {}\".format(len(cols_to_drop)))\n",
    "print(\"-------------------------------------\")\n",
    "print(\"\")\n",
    "for column in cols_to_drop:\n",
    "    print(column)"
   ]
  },
  {
   "cell_type": "markdown",
   "metadata": {},
   "source": [
    "#### 2.2 Dropping rows in cols with NaN"
   ]
  },
  {
   "cell_type": "code",
   "execution_count": 182,
   "metadata": {},
   "outputs": [],
   "source": [
    "# drop the rows from y too\n",
    "y = y[~X['Embarked'].isna()]\n",
    "# Drop 2 rows from dataset with NaN\n",
    "X = X.dropna()"
   ]
  },
  {
   "cell_type": "code",
   "execution_count": 183,
   "metadata": {},
   "outputs": [],
   "source": [
    "X = X.drop(['Name'],axis = 1)"
   ]
  },
  {
   "cell_type": "code",
   "execution_count": 184,
   "metadata": {},
   "outputs": [],
   "source": [
    "X_enc = pd.get_dummies(X, columns=['Sex','Embarked'])"
   ]
  },
  {
   "cell_type": "code",
   "execution_count": 186,
   "metadata": {},
   "outputs": [],
   "source": [
    "le = LabelEncoder()\n",
    "le.fit(X_enc['Ticket'])\n",
    "LabelEncoder()\n",
    "list(le.classes_)\n",
    "X_enc['Ticket'] = le.transform(X_enc['Ticket']) "
   ]
  },
  {
   "cell_type": "markdown",
   "metadata": {},
   "source": [
    "### 3A. Logistic Regression (Produces 48%)"
   ]
  },
  {
   "cell_type": "code",
   "execution_count": 187,
   "metadata": {},
   "outputs": [
    {
     "name": "stdout",
     "output_type": "stream",
     "text": [
      "Accuracy 0.7978336827393431, Precision: 0.7554761904761905, Recall: 0.7763725490196078\n"
     ]
    }
   ],
   "source": [
    "sc = StandardScaler()\n",
    "\n",
    "X_scaled = sc.fit_transform(X_enc)\n",
    "\n",
    "X_train, X_test, y_train, y_test = train_test_split(X_scaled, y , test_size = 0.3, random_state=42)\n",
    "\n",
    "# create classifier\n",
    "logreg = LogisticRegression()\n",
    "\n",
    "logreg.fit(X_train,y_train)\n",
    "\n",
    "y_pred = logreg.predict(X_test)\n",
    "\n",
    "scoring = ['accuracy', 'precision', 'recall_macro']\n",
    "cv_score = cross_validate(logreg, X_test, y_test, scoring=scoring, cv=5)\n",
    "print(\"Accuracy {}, Precision: {}, Recall: {}\".format(np.mean(cv_score['test_accuracy']),np.mean(cv_score['test_precision']),np.mean(cv_score['test_recall_macro'])))"
   ]
  },
  {
   "cell_type": "markdown",
   "metadata": {},
   "source": [
    "### 3B. Random Forest Classifier (Produces 74%)"
   ]
  },
  {
   "cell_type": "code",
   "execution_count": null,
   "metadata": {},
   "outputs": [],
   "source": [
    "param_grid = {'criterion': ['gini',\"entropy\"]}\n",
    "\n",
    "rf = RandomForestClassifier(n_estimators=1000)\n",
    "\n",
    "X_train, X_test, y_train, y_test = train_test_split(X_enc, y, test_size=0.2, random_state = 42)\n",
    "\n",
    "rf_cv = GridSearchCV(rf,param_grid,cv=5)\n",
    "\n",
    "rf_cv.fit(X_train,y_train)\n",
    "\n",
    "print(\"Tuned logistic Regression Parameter: {}\".format(rf_cv.best_params_))\n",
    "print(\"Tuned logistic Regression Accuracy: {}\".format(rf_cv.best_score_))"
   ]
  },
  {
   "cell_type": "markdown",
   "metadata": {},
   "source": [
    "### 4. Make prediction on the test data"
   ]
  },
  {
   "cell_type": "code",
   "execution_count": 154,
   "metadata": {},
   "outputs": [],
   "source": [
    "# Need to preprocess the test data in the same way.\n",
    "# We can drop age and cabin as they were also dropped when we trained our data. However we cannot drop Fare, \n",
    "# as this was used when we trained the data. So we will impute with the average\n",
    "test.drop(['Age', 'Cabin'],axis=1,inplace=True)\n",
    "test.drop(['Name'],axis=1,inplace=True)\n",
    "test_enc = pd.get_dummies(test, columns=['Sex','Embarked'])\n"
   ]
  },
  {
   "cell_type": "code",
   "execution_count": 163,
   "metadata": {},
   "outputs": [],
   "source": [
    "le = LabelEncoder()\n",
    "le.fit(test_enc['Ticket'])\n",
    "LabelEncoder()\n",
    "list(le.classes_)\n",
    "test_enc['Ticket'] = le.transform(test_enc['Ticket']) "
   ]
  },
  {
   "cell_type": "code",
   "execution_count": 176,
   "metadata": {},
   "outputs": [],
   "source": [
    "imp_mean = SimpleImputer(missing_values=np.nan, strategy='mean')\n",
    "imp_mean.fit(np.array(test_enc['Fare']).reshape(-1, 1))\n",
    "test_enc['Fare'] = imp_mean.transform(np.array(test_enc['Fare']).reshape(-1, 1))"
   ]
  },
  {
   "cell_type": "code",
   "execution_count": 190,
   "metadata": {},
   "outputs": [],
   "source": [
    "final_pred = logreg.predict(test_enc)"
   ]
  },
  {
   "cell_type": "markdown",
   "metadata": {},
   "source": [
    "### 5. Output Prediction"
   ]
  },
  {
   "cell_type": "code",
   "execution_count": 226,
   "metadata": {},
   "outputs": [],
   "source": [
    "output = pd.DataFrame({'PassengerID': test_enc[\"PassengerId\"], 'Survived': final_pred})\n",
    "output_loc = \"../predictions/\"\n",
    "output.to_csv(output_loc+str(datetime.now()),index=False)"
   ]
  },
  {
   "cell_type": "code",
   "execution_count": null,
   "metadata": {},
   "outputs": [],
   "source": []
  }
 ],
 "metadata": {
  "kernelspec": {
   "display_name": "Python 3",
   "language": "python",
   "name": "python3"
  },
  "language_info": {
   "codemirror_mode": {
    "name": "ipython",
    "version": 3
   },
   "file_extension": ".py",
   "mimetype": "text/x-python",
   "name": "python",
   "nbconvert_exporter": "python",
   "pygments_lexer": "ipython3",
   "version": "3.6.8"
  }
 },
 "nbformat": 4,
 "nbformat_minor": 2
}
